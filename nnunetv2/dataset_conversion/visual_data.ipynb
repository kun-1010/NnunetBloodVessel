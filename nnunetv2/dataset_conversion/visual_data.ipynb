{
 "cells": [
  {
   "cell_type": "code",
   "execution_count": 20,
   "id": "2a54e58d-79cd-46bf-8931-5b544d9d015a",
   "metadata": {},
   "outputs": [],
   "source": [
    "import tifffile\n",
    "import numpy as np\n",
    "import matplotlib.pyplot as plt\n"
   ]
  },
  {
   "cell_type": "code",
   "execution_count": 11,
   "id": "704fd780-32a2-4257-8bd0-211c4a72cac6",
   "metadata": {},
   "outputs": [],
   "source": [
    "def read_tif_image_pixels(tif_file_path):\n",
    "    \"\"\"\n",
    "    读取 TIFF 图片的像素值。并且计数，查看像素的种类和个数\n",
    "    \"\"\"\n",
    "    with tifffile.TiffFile(tif_file_path) as tif_file:\n",
    "        image = tif_file.asarray()\n",
    "        counts = np.unique(image, return_counts=True)\n",
    "    \n",
    "    return image,counts"
   ]
  },
  {
   "cell_type": "code",
   "execution_count": 12,
   "id": "17df75d7-f409-42ce-992e-3fa9405671ec",
   "metadata": {},
   "outputs": [],
   "source": [
    "raw_label_pixels, raw_label_counts= read_tif_image_pixels(r\"F:\\DATA\\blood-vessel-segmentation\\train\\kidney_1_dense\\labels\\0235.tif\")"
   ]
  },
  {
   "cell_type": "code",
   "execution_count": 13,
   "id": "02590bee-335b-4a5b-a5b3-7c517772789d",
   "metadata": {},
   "outputs": [
    {
     "data": {
      "text/plain": [
       "(1303, 912)"
      ]
     },
     "execution_count": 13,
     "metadata": {},
     "output_type": "execute_result"
    }
   ],
   "source": [
    "raw_label_pixels.shape"
   ]
  },
  {
   "cell_type": "code",
   "execution_count": 14,
   "id": "5ffb39d5-8316-4ada-b36b-46b14bd3cdc8",
   "metadata": {},
   "outputs": [
    {
     "data": {
      "text/plain": [
       "array([[0, 0, 0, ..., 0, 0, 0],\n",
       "       [0, 0, 0, ..., 0, 0, 0],\n",
       "       [0, 0, 0, ..., 0, 0, 0],\n",
       "       ...,\n",
       "       [0, 0, 0, ..., 0, 0, 0],\n",
       "       [0, 0, 0, ..., 0, 0, 0],\n",
       "       [0, 0, 0, ..., 0, 0, 0]], dtype=uint8)"
      ]
     },
     "execution_count": 14,
     "metadata": {},
     "output_type": "execute_result"
    }
   ],
   "source": [
    "raw_label_pixels"
   ]
  },
  {
   "cell_type": "code",
   "execution_count": 15,
   "id": "5b9ca95d-86a9-4a00-bd51-f4ad53822c43",
   "metadata": {},
   "outputs": [
    {
     "data": {
      "text/plain": [
       "(array([  0, 255], dtype=uint8), array([1186028,    2308], dtype=int64))"
      ]
     },
     "execution_count": 15,
     "metadata": {},
     "output_type": "execute_result"
    }
   ],
   "source": [
    "raw_label_counts"
   ]
  },
  {
   "cell_type": "markdown",
   "id": "c9fd2f92-7719-404e-9e0b-64444a8dac4e",
   "metadata": {},
   "source": [
    "由此可知，背景像素值为0，标签像素值为255"
   ]
  },
  {
   "cell_type": "code",
   "execution_count": 17,
   "id": "0fda7de5-5bf8-48d9-9c96-b15a78105a42",
   "metadata": {},
   "outputs": [],
   "source": [
    "process_label_image, process_label_counts = read_tif_image_pixels(r\"F:\\DATA\\NnunetBloodVessel\\nnUNet_preprocessed\\Dataset001_BloodVessel_2D\\gt_segmentations\\kidney_1_dense_0235.tif\")"
   ]
  },
  {
   "cell_type": "code",
   "execution_count": 19,
   "id": "662d03e2-41c2-4249-9126-3e42d4af3d5d",
   "metadata": {},
   "outputs": [
    {
     "data": {
      "text/plain": [
       "(array([0, 1], dtype=uint8), array([1186028,    2308], dtype=int64))"
      ]
     },
     "execution_count": 19,
     "metadata": {},
     "output_type": "execute_result"
    }
   ],
   "source": [
    "process_label_counts #预处理后的label"
   ]
  },
  {
   "cell_type": "code",
   "execution_count": 21,
   "id": "e3f0f200-d4b3-47e4-af09-85270a41ebeb",
   "metadata": {},
   "outputs": [],
   "source": [
    "def visualize_label_images(process_label_image, raw_label_pixels):\n",
    "    # 将矩阵转换为图像格式\n",
    "    process_label_image = process_label_image.astype(np.uint8)\n",
    "    raw_label_pixels = raw_label_pixels.astype(np.uint8)\n",
    "\n",
    "    # 将图像合并为一个图像\n",
    "    fig, ax = plt.subplots(1, 2)\n",
    "    ax[0].imshow(process_label_image)\n",
    "    ax[1].imshow(raw_label_pixels)\n",
    "\n",
    "    # 显示图像\n",
    "    plt.show()"
   ]
  },
  {
   "cell_type": "code",
   "execution_count": 23,
   "id": "6a619ad0-790a-4b8e-987b-d0d6881e371d",
   "metadata": {},
   "outputs": [
    {
     "data": {
      "image/png": "[encoded data removed]",
      "text/plain": [
       "<Figure size 640x480 with 2 Axes>"
      ]
     },
     "metadata": {},
     "output_type": "display_data"
    },
    {
     "data": {
      "text/plain": [
       "'\\n因为 Matplotlib 在显示图像时使用了颜色映射。默认的颜色映射将 0 映射为黑色，1 映射为白色。因此，process_label_image 中的数值为 0 和 1 时，将显示为黑色和白色。\\nraw_label_pixels 中的数值为 0 和 255 时，也将显示为黑色和白色。这因为 Matplotlib 默认将 0 映射为黑色，255 映射为白色。\\n因此，process_label_image 和 raw_label_pixels 在 Matplotlib 中显示的效果是一样的。\\n'"
      ]
     },
     "execution_count": 23,
     "metadata": {},
     "output_type": "execute_result"
    }
   ],
   "source": [
    "visualize_label_images(process_label_image, raw_label_pixels) \n",
    "'''\n",
    "因为 Matplotlib 在显示图像时使用了颜色映射。默认的颜色映射将 0 映射为黑色，1 映射为白色。因此，process_label_image 中的数值为 0 和 1 时，将显示为黑色和白色。\n",
    "raw_label_pixels 中的数值为 0 和 255 时，也将显示为黑色和白色。这因为 Matplotlib 默认将 0 映射为黑色，255 映射为白色。\n",
    "因此，process_label_image 和 raw_label_pixels 在 Matplotlib 中显示的效果是一样的。\n",
    "'''"
   ]
  },
  {
   "cell_type": "code",
   "execution_count": null,
   "id": "3d62c321-3aac-4359-89f9-fb16b46bb701",
   "metadata": {},
   "outputs": [],
   "source": []
  }
 ],
 "metadata": {
  "kernelspec": {
   "display_name": "BloodVessel",
   "language": "python",
   "name": "bloodvessel"
  },
  "language_info": {
   "codemirror_mode": {
    "name": "ipython",
    "version": 3
   },
   "file_extension": ".py",
   "mimetype": "text/x-python",
   "name": "python",
   "nbconvert_exporter": "python",
   "pygments_lexer": "ipython3",
   "version": "3.9.18"
  }
 },
 "nbformat": 4,
 "nbformat_minor": 5
}
